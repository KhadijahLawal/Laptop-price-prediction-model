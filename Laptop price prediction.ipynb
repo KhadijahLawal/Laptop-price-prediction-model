{
 "cells": [
  {
   "cell_type": "code",
   "execution_count": 1,
   "id": "31abf028-1775-4a21-a524-a96ffc60eee9",
   "metadata": {},
   "outputs": [],
   "source": [
    "import numpy as np\n",
    "import pandas as pd\n",
    "from matplotlib import pyplot as plt\n",
    "import seaborn as sns"
   ]
  },
  {
   "cell_type": "code",
   "execution_count": 2,
   "id": "35e08179-0255-4352-8d5b-937ebeeb085c",
   "metadata": {},
   "outputs": [],
   "source": [
    "data=pd.read_csv(\"C:/Users/User/Desktop/ML Zoomcamp/laptops.csv\")"
   ]
  },
  {
   "cell_type": "code",
   "execution_count": 3,
   "id": "ac45dbee-d405-4a54-a6bb-3d86ff18e933",
   "metadata": {},
   "outputs": [
    {
     "data": {
      "text/html": [
       "<div>\n",
       "<style scoped>\n",
       "    .dataframe tbody tr th:only-of-type {\n",
       "        vertical-align: middle;\n",
       "    }\n",
       "\n",
       "    .dataframe tbody tr th {\n",
       "        vertical-align: top;\n",
       "    }\n",
       "\n",
       "    .dataframe thead th {\n",
       "        text-align: right;\n",
       "    }\n",
       "</style>\n",
       "<table border=\"1\" class=\"dataframe\">\n",
       "  <thead>\n",
       "    <tr style=\"text-align: right;\">\n",
       "      <th></th>\n",
       "      <th>Laptop</th>\n",
       "      <th>Status</th>\n",
       "      <th>Brand</th>\n",
       "      <th>Model</th>\n",
       "      <th>CPU</th>\n",
       "      <th>RAM</th>\n",
       "      <th>Storage</th>\n",
       "      <th>Storage type</th>\n",
       "      <th>GPU</th>\n",
       "      <th>Screen</th>\n",
       "      <th>Touch</th>\n",
       "      <th>Final Price</th>\n",
       "    </tr>\n",
       "  </thead>\n",
       "  <tbody>\n",
       "    <tr>\n",
       "      <th>0</th>\n",
       "      <td>ASUS ExpertBook B1 B1502CBA-EJ0436X Intel Core...</td>\n",
       "      <td>New</td>\n",
       "      <td>Asus</td>\n",
       "      <td>ExpertBook</td>\n",
       "      <td>Intel Core i5</td>\n",
       "      <td>8</td>\n",
       "      <td>512</td>\n",
       "      <td>SSD</td>\n",
       "      <td>NaN</td>\n",
       "      <td>15.6</td>\n",
       "      <td>No</td>\n",
       "      <td>1009.00</td>\n",
       "    </tr>\n",
       "    <tr>\n",
       "      <th>1</th>\n",
       "      <td>Alurin Go Start Intel Celeron N4020/8GB/256GB ...</td>\n",
       "      <td>New</td>\n",
       "      <td>Alurin</td>\n",
       "      <td>Go</td>\n",
       "      <td>Intel Celeron</td>\n",
       "      <td>8</td>\n",
       "      <td>256</td>\n",
       "      <td>SSD</td>\n",
       "      <td>NaN</td>\n",
       "      <td>15.6</td>\n",
       "      <td>No</td>\n",
       "      <td>299.00</td>\n",
       "    </tr>\n",
       "    <tr>\n",
       "      <th>2</th>\n",
       "      <td>ASUS ExpertBook B1 B1502CBA-EJ0424X Intel Core...</td>\n",
       "      <td>New</td>\n",
       "      <td>Asus</td>\n",
       "      <td>ExpertBook</td>\n",
       "      <td>Intel Core i3</td>\n",
       "      <td>8</td>\n",
       "      <td>256</td>\n",
       "      <td>SSD</td>\n",
       "      <td>NaN</td>\n",
       "      <td>15.6</td>\n",
       "      <td>No</td>\n",
       "      <td>789.00</td>\n",
       "    </tr>\n",
       "    <tr>\n",
       "      <th>3</th>\n",
       "      <td>MSI Katana GF66 12UC-082XES Intel Core i7-1270...</td>\n",
       "      <td>New</td>\n",
       "      <td>MSI</td>\n",
       "      <td>Katana</td>\n",
       "      <td>Intel Core i7</td>\n",
       "      <td>16</td>\n",
       "      <td>1000</td>\n",
       "      <td>SSD</td>\n",
       "      <td>RTX 3050</td>\n",
       "      <td>15.6</td>\n",
       "      <td>No</td>\n",
       "      <td>1199.00</td>\n",
       "    </tr>\n",
       "    <tr>\n",
       "      <th>4</th>\n",
       "      <td>HP 15S-FQ5085NS Intel Core i5-1235U/16GB/512GB...</td>\n",
       "      <td>New</td>\n",
       "      <td>HP</td>\n",
       "      <td>15S</td>\n",
       "      <td>Intel Core i5</td>\n",
       "      <td>16</td>\n",
       "      <td>512</td>\n",
       "      <td>SSD</td>\n",
       "      <td>NaN</td>\n",
       "      <td>15.6</td>\n",
       "      <td>No</td>\n",
       "      <td>669.01</td>\n",
       "    </tr>\n",
       "  </tbody>\n",
       "</table>\n",
       "</div>"
      ],
      "text/plain": [
       "                                              Laptop Status   Brand  \\\n",
       "0  ASUS ExpertBook B1 B1502CBA-EJ0436X Intel Core...    New    Asus   \n",
       "1  Alurin Go Start Intel Celeron N4020/8GB/256GB ...    New  Alurin   \n",
       "2  ASUS ExpertBook B1 B1502CBA-EJ0424X Intel Core...    New    Asus   \n",
       "3  MSI Katana GF66 12UC-082XES Intel Core i7-1270...    New     MSI   \n",
       "4  HP 15S-FQ5085NS Intel Core i5-1235U/16GB/512GB...    New      HP   \n",
       "\n",
       "        Model            CPU  RAM  Storage Storage type       GPU  Screen  \\\n",
       "0  ExpertBook  Intel Core i5    8      512          SSD       NaN    15.6   \n",
       "1          Go  Intel Celeron    8      256          SSD       NaN    15.6   \n",
       "2  ExpertBook  Intel Core i3    8      256          SSD       NaN    15.6   \n",
       "3      Katana  Intel Core i7   16     1000          SSD  RTX 3050    15.6   \n",
       "4         15S  Intel Core i5   16      512          SSD       NaN    15.6   \n",
       "\n",
       "  Touch  Final Price  \n",
       "0    No      1009.00  \n",
       "1    No       299.00  \n",
       "2    No       789.00  \n",
       "3    No      1199.00  \n",
       "4    No       669.01  "
      ]
     },
     "execution_count": 3,
     "metadata": {},
     "output_type": "execute_result"
    }
   ],
   "source": [
    "data.head()"
   ]
  },
  {
   "cell_type": "code",
   "execution_count": 4,
   "id": "b63e46f6-df8e-494e-83f1-32b6c7f9edba",
   "metadata": {},
   "outputs": [
    {
     "data": {
      "text/plain": [
       "Index(['Laptop', 'Status', 'Brand', 'Model', 'CPU', 'RAM', 'Storage',\n",
       "       'Storage type', 'GPU', 'Screen', 'Touch', 'Final Price'],\n",
       "      dtype='object')"
      ]
     },
     "execution_count": 4,
     "metadata": {},
     "output_type": "execute_result"
    }
   ],
   "source": [
    "data.columns"
   ]
  },
  {
   "cell_type": "code",
   "execution_count": 5,
   "id": "cd88ea25-3fb0-4b76-86b0-d7ae9ca72c3a",
   "metadata": {},
   "outputs": [],
   "source": [
    "data.columns= data.columns.str.lower().str.replace(' ', '_')"
   ]
  },
  {
   "cell_type": "code",
   "execution_count": 6,
   "id": "386a4dd4-2aab-41a5-9084-0d6065e5b955",
   "metadata": {},
   "outputs": [
    {
     "data": {
      "text/plain": [
       "Index(['laptop', 'status', 'brand', 'model', 'cpu', 'ram', 'storage',\n",
       "       'storage_type', 'gpu', 'screen', 'touch', 'final_price'],\n",
       "      dtype='object')"
      ]
     },
     "execution_count": 6,
     "metadata": {},
     "output_type": "execute_result"
    }
   ],
   "source": [
    "data.columns"
   ]
  },
  {
   "cell_type": "code",
   "execution_count": 7,
   "id": "ab6c29bd-6cd0-46fb-80ce-9c8218a738d8",
   "metadata": {},
   "outputs": [
    {
     "data": {
      "text/plain": [
       "<bound method IndexOpsMixin.tolist of Index(['laptop', 'status', 'brand', 'model', 'cpu', 'ram', 'storage',\n",
       "       'storage_type', 'gpu', 'screen', 'touch', 'final_price'],\n",
       "      dtype='object')>"
      ]
     },
     "execution_count": 7,
     "metadata": {},
     "output_type": "execute_result"
    }
   ],
   "source": [
    "data.columns.tolist"
   ]
  },
  {
   "cell_type": "code",
   "execution_count": 8,
   "id": "942f499f-a607-422d-a072-94e6d4d598e2",
   "metadata": {},
   "outputs": [],
   "source": [
    "data.drop(columns=['laptop', 'status', 'brand', 'model', 'cpu',\n",
    "       'storage_type', 'gpu', 'touch'],\n",
    "                       inplace=True)"
   ]
  },
  {
   "cell_type": "code",
   "execution_count": 9,
   "id": "469656ab-5774-4e84-bbd0-c0ff53c73cfd",
   "metadata": {},
   "outputs": [
    {
     "data": {
      "text/plain": [
       "Index(['ram', 'storage', 'screen', 'final_price'], dtype='object')"
      ]
     },
     "execution_count": 9,
     "metadata": {},
     "output_type": "execute_result"
    }
   ],
   "source": [
    "data.columns"
   ]
  },
  {
   "cell_type": "code",
   "execution_count": 10,
   "id": "e24b0266-bfd7-4fe3-80a1-9335a56cfe53",
   "metadata": {},
   "outputs": [
    {
     "data": {
      "text/plain": [
       "<Axes: xlabel='final_price', ylabel='Count'>"
      ]
     },
     "execution_count": 10,
     "metadata": {},
     "output_type": "execute_result"
    },
    {
     "data": {
      "image/png": "[encoded data removed]",
      "text/plain": [
       "<Figure size 600x400 with 1 Axes>"
      ]
     },
     "metadata": {},
     "output_type": "display_data"
    }
   ],
   "source": [
    "plt.figure(figsize=(6,4))\n",
    "sns.histplot(data.final_price, bins=40)"
   ]
  },
  {
   "cell_type": "code",
   "execution_count": 11,
   "id": "62864795-eaf3-47ad-9d70-4aab1390cbd6",
   "metadata": {},
   "outputs": [
    {
     "data": {
      "image/png": "[encoded data removed]",
      "text/plain": [
       "<Figure size 600x400 with 1 Axes>"
      ]
     },
     "metadata": {},
     "output_type": "display_data"
    }
   ],
   "source": [
    "plt.figure(figsize=(6,4))\n",
    "sns.histplot(data.final_price[data.final_price<100000], bins=40)\n",
    "\n",
    "plt.ylabel('Frequency')\n",
    "plt.xlabel('Price')\n",
    "plt.title('Distribution of prices')\n",
    "plt.show()"
   ]
  },
  {
   "cell_type": "code",
   "execution_count": 12,
   "id": "ae077a89-eafc-4ec4-a4e8-909805951d8f",
   "metadata": {},
   "outputs": [
    {
     "data": {
      "text/plain": [
       "array([0.        , 0.69314718, 2.39789527, 4.61512052, 6.90875478,\n",
       "       9.21044037])"
      ]
     },
     "execution_count": 12,
     "metadata": {},
     "output_type": "execute_result"
    }
   ],
   "source": [
    "np.log1p([0, 1, 10, 100, 1000, 10000])"
   ]
  },
  {
   "cell_type": "code",
   "execution_count": 13,
   "id": "22b58b52-27e1-4f0c-a3c3-c1f7238b5811",
   "metadata": {},
   "outputs": [
    {
     "data": {
      "text/plain": [
       "array([0.69314718, 1.09861229, 2.48490665, 4.62497281, 6.90975328,\n",
       "       9.21054035])"
      ]
     },
     "execution_count": 13,
     "metadata": {},
     "output_type": "execute_result"
    }
   ],
   "source": [
    "np.log1p([0+1, 1+1, 10+1, 100+1, 1000+1, 10000+1])"
   ]
  },
  {
   "cell_type": "code",
   "execution_count": 14,
   "id": "4b40fe02-e57e-42b8-8240-3c61d2310329",
   "metadata": {},
   "outputs": [],
   "source": [
    "price_logs = np.log1p(data.final_price)"
   ]
  },
  {
   "cell_type": "code",
   "execution_count": 15,
   "id": "b8d706d9-4777-436c-942e-036f35da28e5",
   "metadata": {},
   "outputs": [
    {
     "data": {
      "text/plain": [
       "<Axes: xlabel='final_price', ylabel='Count'>"
      ]
     },
     "execution_count": 15,
     "metadata": {},
     "output_type": "execute_result"
    },
    {
     "data": {
      "image/png": "[encoded data removed]",
      "text/plain": [
       "<Figure size 640x480 with 1 Axes>"
      ]
     },
     "metadata": {},
     "output_type": "display_data"
    }
   ],
   "source": [
    "sns.histplot(price_logs, bins=40)"
   ]
  },
  {
   "cell_type": "code",
   "execution_count": 16,
   "id": "c3a0ea8d-7146-472a-aab7-aa31e00e5d33",
   "metadata": {},
   "outputs": [
    {
     "data": {
      "text/plain": [
       "ram            0\n",
       "storage        0\n",
       "screen         4\n",
       "final_price    0\n",
       "dtype: int64"
      ]
     },
     "execution_count": 16,
     "metadata": {},
     "output_type": "execute_result"
    }
   ],
   "source": [
    "data.isnull().sum()"
   ]
  },
  {
   "cell_type": "code",
   "execution_count": 17,
   "id": "73edf392-f3bf-4597-b59d-4461e17c3547",
   "metadata": {},
   "outputs": [
    {
     "data": {
      "text/plain": [
       "<bound method IndexOpsMixin.nunique of 0        8\n",
       "1        8\n",
       "2        8\n",
       "3       16\n",
       "4       16\n",
       "        ..\n",
       "2155    16\n",
       "2156    16\n",
       "2157    32\n",
       "2158    16\n",
       "2159    16\n",
       "Name: ram, Length: 2160, dtype: int64>"
      ]
     },
     "execution_count": 17,
     "metadata": {},
     "output_type": "execute_result"
    }
   ],
   "source": [
    "data.ram.nunique"
   ]
  },
  {
   "cell_type": "code",
   "execution_count": 18,
   "id": "6eafe513-e3f8-4308-9705-71b28c9d6542",
   "metadata": {},
   "outputs": [
    {
     "data": {
      "text/plain": [
       "1080    8\n",
       "1081    8\n",
       "Name: ram, dtype: int64"
      ]
     },
     "execution_count": 18,
     "metadata": {},
     "output_type": "execute_result"
    }
   ],
   "source": [
    "data.ram.iloc[[1080, 1081]]"
   ]
  },
  {
   "cell_type": "code",
   "execution_count": 19,
   "id": "1944717f-d206-4031-89b7-480e16e603fc",
   "metadata": {},
   "outputs": [],
   "source": [
    "n=len(data)"
   ]
  },
  {
   "cell_type": "code",
   "execution_count": 20,
   "id": "c562d3ca-bef3-4f4a-93d6-af0665c67633",
   "metadata": {},
   "outputs": [
    {
     "data": {
      "text/plain": [
       "2160"
      ]
     },
     "execution_count": 20,
     "metadata": {},
     "output_type": "execute_result"
    }
   ],
   "source": [
    "n"
   ]
  },
  {
   "cell_type": "code",
   "execution_count": 21,
   "id": "5d668f2c-f3b0-45cc-b83a-236a66c76822",
   "metadata": {},
   "outputs": [],
   "source": [
    "idx=np.arange(n)"
   ]
  },
  {
   "cell_type": "code",
   "execution_count": 22,
   "id": "e3c1dc81-dcc0-45e5-8635-d4ed5a79f555",
   "metadata": {},
   "outputs": [],
   "source": [
    "np.random.shuffle(idx)\n",
    "np.random.seed(2)\n",
    "\n",
    "n_val=int(n*0.2)\n",
    "n_test=int(n*0.2)\n",
    "n_train=int(n-(n_val+n_test))\n",
    "data_shuffled = data.iloc[idx]\n",
    "\n",
    "data_train = data_shuffled.iloc[:n_train].copy()\n",
    "data_val = data_shuffled.iloc[n_train:n_train+n_val].copy()\n",
    "data_test = data_shuffled.iloc[n_train+n_val:].copy()"
   ]
  },
  {
   "cell_type": "code",
   "execution_count": 23,
   "id": "96b48e48-6979-47e3-8022-81f634910046",
   "metadata": {},
   "outputs": [
    {
     "data": {
      "text/plain": [
       "(1296, 432, 432)"
      ]
     },
     "execution_count": 23,
     "metadata": {},
     "output_type": "execute_result"
    }
   ],
   "source": [
    "n_train, n_val, n_test"
   ]
  },
  {
   "cell_type": "code",
   "execution_count": 24,
   "id": "aff6c445-dc68-4402-8687-2eda3299b5bd",
   "metadata": {},
   "outputs": [
    {
     "data": {
      "text/html": [
       "<div>\n",
       "<style scoped>\n",
       "    .dataframe tbody tr th:only-of-type {\n",
       "        vertical-align: middle;\n",
       "    }\n",
       "\n",
       "    .dataframe tbody tr th {\n",
       "        vertical-align: top;\n",
       "    }\n",
       "\n",
       "    .dataframe thead th {\n",
       "        text-align: right;\n",
       "    }\n",
       "</style>\n",
       "<table border=\"1\" class=\"dataframe\">\n",
       "  <thead>\n",
       "    <tr style=\"text-align: right;\">\n",
       "      <th></th>\n",
       "      <th>ram</th>\n",
       "      <th>storage</th>\n",
       "      <th>screen</th>\n",
       "      <th>final_price</th>\n",
       "    </tr>\n",
       "  </thead>\n",
       "  <tbody>\n",
       "    <tr>\n",
       "      <th>2060</th>\n",
       "      <td>16</td>\n",
       "      <td>1000</td>\n",
       "      <td>15.6</td>\n",
       "      <td>1749.00</td>\n",
       "    </tr>\n",
       "    <tr>\n",
       "      <th>1446</th>\n",
       "      <td>16</td>\n",
       "      <td>512</td>\n",
       "      <td>14.0</td>\n",
       "      <td>977.00</td>\n",
       "    </tr>\n",
       "    <tr>\n",
       "      <th>1130</th>\n",
       "      <td>8</td>\n",
       "      <td>256</td>\n",
       "      <td>13.3</td>\n",
       "      <td>765.33</td>\n",
       "    </tr>\n",
       "    <tr>\n",
       "      <th>1323</th>\n",
       "      <td>8</td>\n",
       "      <td>256</td>\n",
       "      <td>15.6</td>\n",
       "      <td>2450.71</td>\n",
       "    </tr>\n",
       "    <tr>\n",
       "      <th>169</th>\n",
       "      <td>16</td>\n",
       "      <td>512</td>\n",
       "      <td>15.6</td>\n",
       "      <td>779.01</td>\n",
       "    </tr>\n",
       "  </tbody>\n",
       "</table>\n",
       "</div>"
      ],
      "text/plain": [
       "      ram  storage  screen  final_price\n",
       "2060   16     1000    15.6      1749.00\n",
       "1446   16      512    14.0       977.00\n",
       "1130    8      256    13.3       765.33\n",
       "1323    8      256    15.6      2450.71\n",
       "169    16      512    15.6       779.01"
      ]
     },
     "execution_count": 24,
     "metadata": {},
     "output_type": "execute_result"
    }
   ],
   "source": [
    "data_train.head()"
   ]
  },
  {
   "cell_type": "code",
   "execution_count": 25,
   "id": "3181a754-36e8-464a-833d-66ac2e9213c0",
   "metadata": {},
   "outputs": [],
   "source": [
    "data_train=data_train.reset_index(drop=True)\n",
    "data_val=data_val.reset_index(drop=True)\n",
    "data_test=data_test.reset_index(drop=True)"
   ]
  },
  {
   "cell_type": "code",
   "execution_count": 26,
   "id": "ea11ef27-45ef-4616-9788-96f919a9cea8",
   "metadata": {},
   "outputs": [
    {
     "data": {
      "text/html": [
       "<div>\n",
       "<style scoped>\n",
       "    .dataframe tbody tr th:only-of-type {\n",
       "        vertical-align: middle;\n",
       "    }\n",
       "\n",
       "    .dataframe tbody tr th {\n",
       "        vertical-align: top;\n",
       "    }\n",
       "\n",
       "    .dataframe thead th {\n",
       "        text-align: right;\n",
       "    }\n",
       "</style>\n",
       "<table border=\"1\" class=\"dataframe\">\n",
       "  <thead>\n",
       "    <tr style=\"text-align: right;\">\n",
       "      <th></th>\n",
       "      <th>ram</th>\n",
       "      <th>storage</th>\n",
       "      <th>screen</th>\n",
       "      <th>final_price</th>\n",
       "    </tr>\n",
       "  </thead>\n",
       "  <tbody>\n",
       "    <tr>\n",
       "      <th>0</th>\n",
       "      <td>16</td>\n",
       "      <td>1000</td>\n",
       "      <td>15.6</td>\n",
       "      <td>1749.00</td>\n",
       "    </tr>\n",
       "    <tr>\n",
       "      <th>1</th>\n",
       "      <td>16</td>\n",
       "      <td>512</td>\n",
       "      <td>14.0</td>\n",
       "      <td>977.00</td>\n",
       "    </tr>\n",
       "    <tr>\n",
       "      <th>2</th>\n",
       "      <td>8</td>\n",
       "      <td>256</td>\n",
       "      <td>13.3</td>\n",
       "      <td>765.33</td>\n",
       "    </tr>\n",
       "    <tr>\n",
       "      <th>3</th>\n",
       "      <td>8</td>\n",
       "      <td>256</td>\n",
       "      <td>15.6</td>\n",
       "      <td>2450.71</td>\n",
       "    </tr>\n",
       "    <tr>\n",
       "      <th>4</th>\n",
       "      <td>16</td>\n",
       "      <td>512</td>\n",
       "      <td>15.6</td>\n",
       "      <td>779.01</td>\n",
       "    </tr>\n",
       "    <tr>\n",
       "      <th>...</th>\n",
       "      <td>...</td>\n",
       "      <td>...</td>\n",
       "      <td>...</td>\n",
       "      <td>...</td>\n",
       "    </tr>\n",
       "    <tr>\n",
       "      <th>1291</th>\n",
       "      <td>8</td>\n",
       "      <td>256</td>\n",
       "      <td>15.6</td>\n",
       "      <td>539.01</td>\n",
       "    </tr>\n",
       "    <tr>\n",
       "      <th>1292</th>\n",
       "      <td>4</td>\n",
       "      <td>128</td>\n",
       "      <td>14.0</td>\n",
       "      <td>208.99</td>\n",
       "    </tr>\n",
       "    <tr>\n",
       "      <th>1293</th>\n",
       "      <td>8</td>\n",
       "      <td>256</td>\n",
       "      <td>15.6</td>\n",
       "      <td>999.00</td>\n",
       "    </tr>\n",
       "    <tr>\n",
       "      <th>1294</th>\n",
       "      <td>16</td>\n",
       "      <td>256</td>\n",
       "      <td>12.3</td>\n",
       "      <td>1111.35</td>\n",
       "    </tr>\n",
       "    <tr>\n",
       "      <th>1295</th>\n",
       "      <td>16</td>\n",
       "      <td>512</td>\n",
       "      <td>13.3</td>\n",
       "      <td>663.69</td>\n",
       "    </tr>\n",
       "  </tbody>\n",
       "</table>\n",
       "<p>1296 rows × 4 columns</p>\n",
       "</div>"
      ],
      "text/plain": [
       "      ram  storage  screen  final_price\n",
       "0      16     1000    15.6      1749.00\n",
       "1      16      512    14.0       977.00\n",
       "2       8      256    13.3       765.33\n",
       "3       8      256    15.6      2450.71\n",
       "4      16      512    15.6       779.01\n",
       "...   ...      ...     ...          ...\n",
       "1291    8      256    15.6       539.01\n",
       "1292    4      128    14.0       208.99\n",
       "1293    8      256    15.6       999.00\n",
       "1294   16      256    12.3      1111.35\n",
       "1295   16      512    13.3       663.69\n",
       "\n",
       "[1296 rows x 4 columns]"
      ]
     },
     "execution_count": 26,
     "metadata": {},
     "output_type": "execute_result"
    }
   ],
   "source": [
    "data_train"
   ]
  },
  {
   "cell_type": "code",
   "execution_count": 27,
   "id": "6b6ff902-97d9-4357-87f4-4a17a421a1ab",
   "metadata": {},
   "outputs": [
    {
     "data": {
      "text/plain": [
       "array([ 16,   8,  64,  12,  32,   4,  40,   6, 128], dtype=int64)"
      ]
     },
     "execution_count": 27,
     "metadata": {},
     "output_type": "execute_result"
    }
   ],
   "source": [
    "data_train.ram.unique()"
   ]
  },
  {
   "cell_type": "code",
   "execution_count": 28,
   "id": "8bc0402f-b7ae-4f52-b8ba-85fa87bb0c46",
   "metadata": {},
   "outputs": [
    {
     "name": "stderr",
     "output_type": "stream",
     "text": [
      "C:\\Users\\User\\AppData\\Local\\Temp\\ipykernel_12476\\2514367101.py:1: FutureWarning: A value is trying to be set on a copy of a DataFrame or Series through chained assignment using an inplace method.\n",
      "The behavior will change in pandas 3.0. This inplace method will never work because the intermediate object on which we are setting values always behaves as a copy.\n",
      "\n",
      "For example, when doing 'df[col].method(value, inplace=True)', try using 'df.method({col: value}, inplace=True)' or df[col] = df[col].method(value) instead, to perform the operation inplace on the original object.\n",
      "\n",
      "\n",
      "  data_train['screen'].fillna('0', inplace = True)\n",
      "C:\\Users\\User\\AppData\\Local\\Temp\\ipykernel_12476\\2514367101.py:1: FutureWarning: Setting an item of incompatible dtype is deprecated and will raise an error in a future version of pandas. Value '0' has dtype incompatible with float64, please explicitly cast to a compatible dtype first.\n",
      "  data_train['screen'].fillna('0', inplace = True)\n"
     ]
    }
   ],
   "source": [
    "data_train['screen'].fillna('0', inplace = True)"
   ]
  },
  {
   "cell_type": "code",
   "execution_count": 29,
   "id": "17c7c5d3-8cb6-4d55-b4c3-61619307bea2",
   "metadata": {},
   "outputs": [
    {
     "data": {
      "text/plain": [
       "ram            0\n",
       "storage        0\n",
       "screen         0\n",
       "final_price    0\n",
       "dtype: int64"
      ]
     },
     "execution_count": 29,
     "metadata": {},
     "output_type": "execute_result"
    }
   ],
   "source": [
    "data_train.isnull().sum()"
   ]
  },
  {
   "cell_type": "code",
   "execution_count": 30,
   "id": "d4dd0245-0478-466d-b3e9-773ddb9f682c",
   "metadata": {},
   "outputs": [],
   "source": [
    "y_train_orig = data_train.final_price.values\n",
    "y_val_orig = data_val.final_price.values\n",
    "y_test_orig = data_test.final_price.values\n",
    "\n",
    "y_train = np.log1p(data_train.final_price.values)\n",
    "y_val = np.log1p(data_val.final_price.values)\n",
    "y_test = np.log1p(data_test.final_price.values)\n",
    "\n",
    "del data_train['final_price']\n",
    "del data_val['final_price']\n",
    "del data_test['final_price']"
   ]
  },
  {
   "cell_type": "code",
   "execution_count": 31,
   "id": "658f4376-7165-46fb-900c-867cc348f09d",
   "metadata": {},
   "outputs": [
    {
     "data": {
      "text/html": [
       "<div>\n",
       "<style scoped>\n",
       "    .dataframe tbody tr th:only-of-type {\n",
       "        vertical-align: middle;\n",
       "    }\n",
       "\n",
       "    .dataframe tbody tr th {\n",
       "        vertical-align: top;\n",
       "    }\n",
       "\n",
       "    .dataframe thead th {\n",
       "        text-align: right;\n",
       "    }\n",
       "</style>\n",
       "<table border=\"1\" class=\"dataframe\">\n",
       "  <thead>\n",
       "    <tr style=\"text-align: right;\">\n",
       "      <th></th>\n",
       "      <th>ram</th>\n",
       "      <th>storage</th>\n",
       "      <th>screen</th>\n",
       "    </tr>\n",
       "  </thead>\n",
       "  <tbody>\n",
       "    <tr>\n",
       "      <th>0</th>\n",
       "      <td>16</td>\n",
       "      <td>1000</td>\n",
       "      <td>15.6</td>\n",
       "    </tr>\n",
       "    <tr>\n",
       "      <th>1</th>\n",
       "      <td>16</td>\n",
       "      <td>512</td>\n",
       "      <td>14.0</td>\n",
       "    </tr>\n",
       "    <tr>\n",
       "      <th>2</th>\n",
       "      <td>8</td>\n",
       "      <td>256</td>\n",
       "      <td>13.3</td>\n",
       "    </tr>\n",
       "    <tr>\n",
       "      <th>3</th>\n",
       "      <td>8</td>\n",
       "      <td>256</td>\n",
       "      <td>15.6</td>\n",
       "    </tr>\n",
       "    <tr>\n",
       "      <th>4</th>\n",
       "      <td>16</td>\n",
       "      <td>512</td>\n",
       "      <td>15.6</td>\n",
       "    </tr>\n",
       "  </tbody>\n",
       "</table>\n",
       "</div>"
      ],
      "text/plain": [
       "   ram  storage screen\n",
       "0   16     1000   15.6\n",
       "1   16      512   14.0\n",
       "2    8      256   13.3\n",
       "3    8      256   15.6\n",
       "4   16      512   15.6"
      ]
     },
     "execution_count": 31,
     "metadata": {},
     "output_type": "execute_result"
    }
   ],
   "source": [
    "data_train.head()"
   ]
  },
  {
   "cell_type": "code",
   "execution_count": null,
   "id": "1b9c768b-46d6-4433-ac94-5c02eb290ae3",
   "metadata": {},
   "outputs": [],
   "source": []
  },
  {
   "cell_type": "code",
   "execution_count": 32,
   "id": "d58cd331-9e7b-4127-825d-0e7e4c65230b",
   "metadata": {},
   "outputs": [],
   "source": [
    "def train_linear_regression(X,y):\n",
    "    ones=np.ones(X.shape[0])\n",
    "    X=np.column_stack([ones, X])\n",
    "    XTX=X.T.dot(X)\n",
    "    XTX_inv= np.linalg.inv(XTX)\n",
    "    w_full=XTX_inv.dot(X.T).dot(y)\n",
    "    w=w_full[1:]\n",
    "    w0=w_full[0]\n",
    "    return w0, w"
   ]
  },
  {
   "cell_type": "code",
   "execution_count": 33,
   "id": "2820c697-bc36-4af2-b391-1430d3ed5b71",
   "metadata": {},
   "outputs": [],
   "source": [
    "base= ['ram', 'storage', 'screen']"
   ]
  },
  {
   "cell_type": "code",
   "execution_count": 34,
   "id": "38349fd5-21c5-4c9f-97bd-31e7c30d1007",
   "metadata": {},
   "outputs": [],
   "source": [
    "def prepare_X(data):\n",
    "    data_num = data[base]\n",
    "    data_num = data_num.fillna(0)\n",
    "    X = data_num.values\n",
    "    return X"
   ]
  },
  {
   "cell_type": "code",
   "execution_count": 35,
   "id": "b91ddf66-50b6-4f86-a2a3-2d87bc39e07a",
   "metadata": {},
   "outputs": [],
   "source": [
    "X_train = prepare_X(data_train).astype(int)\n",
    "w0, w = train_linear_regression(X_train, y_train)"
   ]
  },
  {
   "cell_type": "code",
   "execution_count": 36,
   "id": "ad0bac9d-5929-4b48-9eac-c6537106ab68",
   "metadata": {},
   "outputs": [],
   "source": [
    "\n",
    "y_pred= w0+X_train.dot(w)"
   ]
  },
  {
   "cell_type": "code",
   "execution_count": 37,
   "id": "68458f9d-73ab-44e2-8454-d9a1220bf0ac",
   "metadata": {},
   "outputs": [
    {
     "data": {
      "text/plain": [
       "6.363221548678528"
      ]
     },
     "execution_count": 37,
     "metadata": {},
     "output_type": "execute_result"
    }
   ],
   "source": [
    "w0"
   ]
  },
  {
   "cell_type": "code",
   "execution_count": 38,
   "id": "1a261f88-a8b8-4087-9263-83261075c9a2",
   "metadata": {},
   "outputs": [
    {
     "data": {
      "text/plain": [
       "array([ 0.02500554,  0.00077167, -0.0163133 ])"
      ]
     },
     "execution_count": 38,
     "metadata": {},
     "output_type": "execute_result"
    }
   ],
   "source": [
    "w"
   ]
  },
  {
   "cell_type": "code",
   "execution_count": 39,
   "id": "689651de-cade-42db-86da-8d1e6bc5bb8a",
   "metadata": {},
   "outputs": [
    {
     "data": {
      "image/png": "[encoded data removed]",
      "text/plain": [
       "<Figure size 640x480 with 1 Axes>"
      ]
     },
     "metadata": {},
     "output_type": "display_data"
    }
   ],
   "source": [
    "sns.histplot(y_pred, label = 'prediction', color='red', alpha = 0.5, bins=50)\n",
    "sns.histplot(y_train, label = 'target', color='blue', alpha = 0.5, bins=50)\n",
    "plt.legend()\n",
    "\n",
    "plt.ylabel('Price')\n",
    "plt.xlabel('Log(Price+1)')\n",
    "plt.title('Predictions vs distribution ')\n",
    "\n",
    "plt.show()"
   ]
  },
  {
   "cell_type": "code",
   "execution_count": 40,
   "id": "e5486e4b-f246-4997-836f-5e500fe45fd9",
   "metadata": {},
   "outputs": [],
   "source": [
    "def rmse(y,y_pred):\n",
    "    se= (y-y_pred)**2\n",
    "    mse=se.mean()\n",
    "    return np.sqrt(mse)"
   ]
  },
  {
   "cell_type": "code",
   "execution_count": 41,
   "id": "a45749e5-a1c7-4993-905c-97c4d33bd6b0",
   "metadata": {},
   "outputs": [
    {
     "data": {
      "text/plain": [
       "0.4436618109330989"
      ]
     },
     "execution_count": 41,
     "metadata": {},
     "output_type": "execute_result"
    }
   ],
   "source": [
    "rmse(y_train, y_pred)"
   ]
  },
  {
   "cell_type": "code",
   "execution_count": 42,
   "id": "33442515-27ef-40e4-bb11-b11c95e4f903",
   "metadata": {},
   "outputs": [],
   "source": [
    "X_val = prepare_X(data_val)\n",
    "y_pred = w0 + X_val.dot(w)"
   ]
  },
  {
   "cell_type": "code",
   "execution_count": 43,
   "id": "35182767-1256-4db9-b7cf-b3883897ddaa",
   "metadata": {},
   "outputs": [
    {
     "data": {
      "text/plain": [
       "0.423"
      ]
     },
     "execution_count": 43,
     "metadata": {},
     "output_type": "execute_result"
    }
   ],
   "source": [
    "rmse(y_val, y_pred).round(3)"
   ]
  },
  {
   "cell_type": "code",
   "execution_count": 44,
   "id": "d80085f0-7594-4158-8a13-4ba1e3b2213a",
   "metadata": {},
   "outputs": [],
   "source": [
    "def train_linear_regression_reg(X, y, r=0.0):\n",
    "    ones = np.ones(X.shape[0])\n",
    "    X = np.column_stack([ones, X])\n",
    "\n",
    "    XTX = X.T.dot(X)\n",
    "    reg = r * np.eye(XTX.shape[0])\n",
    "    XTX = XTX + reg\n",
    "\n",
    "    XTX_inv = np.linalg.inv(XTX)\n",
    "    w = XTX_inv.dot(X.T).dot(y)\n",
    "    \n",
    "    return w[0], w[1:]"
   ]
  },
  {
   "cell_type": "code",
   "execution_count": 45,
   "id": "02c7829b-5258-4f0b-a5f0-59b9083e499e",
   "metadata": {},
   "outputs": [],
   "source": [
    "X_train = prepare_X(data_train).astype(float)"
   ]
  },
  {
   "cell_type": "code",
   "execution_count": 46,
   "id": "473f99cb-20fe-421f-ac4a-a27b6b7b61f8",
   "metadata": {},
   "outputs": [
    {
     "name": "stdout",
     "output_type": "stream",
     "text": [
      "0 6.56 0.423\n",
      "0.01 6.55 0.423\n",
      "0.1 6.49 0.423\n",
      "1 5.92 0.423\n",
      "10 3.16 0.423\n",
      "100 0.58 0.423\n"
     ]
    }
   ],
   "source": [
    "for r in [0, 0.01, 0.1, 1, 10, 100]:\n",
    "    w0, w = train_linear_regression_reg(X_train, y_train, r=r)\n",
    "    score=rmse(y_val,y_pred)\n",
    "    print(r, w0.round(2),score.round(3))\n"
   ]
  },
  {
   "cell_type": "code",
   "execution_count": 47,
   "id": "98c8d113-a85c-41ef-b092-6cc18748b417",
   "metadata": {},
   "outputs": [
    {
     "data": {
      "text/plain": [
       "<function float64.round>"
      ]
     },
     "execution_count": 47,
     "metadata": {},
     "output_type": "execute_result"
    }
   ],
   "source": [
    "np.std([0.44,0.425, 0.441, 0.451,0.47,0.451, 0.468,0.43,0.407,0.446]).round"
   ]
  },
  {
   "cell_type": "code",
   "execution_count": 48,
   "id": "4b7f717b-1e03-4b71-af9e-a4e92803c784",
   "metadata": {},
   "outputs": [
    {
     "name": "stdout",
     "output_type": "stream",
     "text": [
      "train 0.4425673752632234\n",
      "val 0.42157854884250967\n",
      "val 0.439213723938825\n"
     ]
    }
   ],
   "source": [
    "X_train = prepare_X(data_train).astype(float)\n",
    "w0, w = train_linear_regression_reg(X_train, y_train, r=0.001)\n",
    "\n",
    "y_pred = w0 + X_train.dot(w)\n",
    "print('train', rmse(y_train, y_pred))\n",
    "\n",
    "X_val = prepare_X(data_val)\n",
    "y_pred = w0 + X_val.dot(w)\n",
    "print('val', rmse(y_val, y_pred))\n",
    "\n",
    "X_test = prepare_X(data_test)\n",
    "y_pred = w0 + X_test.dot(w)\n",
    "print('val', rmse(y_test, y_pred))"
   ]
  },
  {
   "cell_type": "code",
   "execution_count": null,
   "id": "3a897936-3823-4bce-a39e-4fd91ec74bae",
   "metadata": {},
   "outputs": [],
   "source": []
  },
  {
   "cell_type": "code",
   "execution_count": null,
   "id": "9e42aec2-26f5-447c-a7ee-f4018b00ba74",
   "metadata": {},
   "outputs": [],
   "source": []
  },
  {
   "cell_type": "code",
   "execution_count": null,
   "id": "7d85fa40-7e2a-4367-8b98-0fec03878b71",
   "metadata": {},
   "outputs": [],
   "source": []
  },
  {
   "cell_type": "code",
   "execution_count": null,
   "id": "9bef14bc-bd86-46e0-902d-e9bb7c701409",
   "metadata": {},
   "outputs": [],
   "source": []
  }
 ],
 "metadata": {
  "kernelspec": {
   "display_name": "Python 3 (ipykernel)",
   "language": "python",
   "name": "python3"
  },
  "language_info": {
   "codemirror_mode": {
    "name": "ipython",
    "version": 3
   },
   "file_extension": ".py",
   "mimetype": "text/x-python",
   "name": "python",
   "nbconvert_exporter": "python",
   "pygments_lexer": "ipython3",
   "version": "3.11.10"
  }
 },
 "nbformat": 4,
 "nbformat_minor": 5
}
